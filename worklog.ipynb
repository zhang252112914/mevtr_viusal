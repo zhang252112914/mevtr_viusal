{
 "cells": [
  {
   "cell_type": "markdown",
   "metadata": {},
   "source": [
    "Problem 1. AttributeError: module 'numpy' has no attribute 'long' \n",
    "   \n",
    "Reason: the numpy version is too high, numpy higher than 1.23.0 will not support long type, maybe try longlong \n",
    "\n",
    "Solve: pip install numpy==1.23.0"
   ]
  },
  {
   "cell_type": "markdown",
   "metadata": {},
   "source": [
    "torch higher than 1.8 "
   ]
  },
  {
   "cell_type": "markdown",
   "metadata": {},
   "source": []
  },
  {
   "cell_type": "code",
   "execution_count": null,
   "metadata": {},
   "outputs": [],
   "source": []
  },
  {
   "cell_type": "markdown",
   "metadata": {},
   "source": []
  }
 ],
 "metadata": {
  "kernelspec": {
   "display_name": "yzwT2V",
   "language": "python",
   "name": "yzwt2v"
  }
 },
 "nbformat": 4,
 "nbformat_minor": 2
}
